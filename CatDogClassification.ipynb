{
  "nbformat": 4,
  "nbformat_minor": 0,
  "metadata": {
    "colab": {
      "provenance": [],
      "authorship_tag": "ABX9TyPdxKn/bBHS9hoxGsJlKt+b",
      "include_colab_link": true
    },
    "kernelspec": {
      "name": "python3",
      "display_name": "Python 3"
    },
    "language_info": {
      "name": "python"
    }
  },
  "cells": [
    {
      "cell_type": "markdown",
      "metadata": {
        "id": "view-in-github",
        "colab_type": "text"
      },
      "source": [
        "<a href=\"https://colab.research.google.com/github/umersajid11/CatDogClassification/blob/main/CatDogClassification.ipynb\" target=\"_parent\"><img src=\"https://colab.research.google.com/assets/colab-badge.svg\" alt=\"Open In Colab\"/></a>"
      ]
    },
    {
      "cell_type": "code",
      "execution_count": 2,
      "metadata": {
        "id": "6AgGfZk72K9u",
        "colab": {
          "base_uri": "https://localhost:8080/"
        },
        "outputId": "df87e7d7-810b-416d-f244-0a5e5cda0b73"
      },
      "outputs": [
        {
          "output_type": "stream",
          "name": "stdout",
          "text": [
            "Cat Dog Classification\n"
          ]
        }
      ],
      "source": [
        "print (\"Cat Dog Classification\")"
      ]
    },
    {
      "cell_type": "code",
      "source": [
        "from google.colab import userdata\n",
        "token = userdata.get(\"colabgitkey\")\n",
        "\n",
        "!git config --global user.email \"umersajid11@yahoo.com\"\n",
        "!git config --global user.name \"umersajid11\"\n",
        "\n",
        "!git add CatDogClassification.ipynb\n",
        "!git commit -m \"Updated CatDogClassification notebook\"\n",
        "!git push https://{token}@github.com/umersajid11/CatDogClassification.git\n"
      ],
      "metadata": {
        "id": "PYOd22PvqGUu",
        "outputId": "efc5c5b1-407f-48ca-f763-33295d4cda6b",
        "colab": {
          "base_uri": "https://localhost:8080/"
        }
      },
      "execution_count": 3,
      "outputs": [
        {
          "output_type": "stream",
          "name": "stdout",
          "text": [
            "fatal: not a git repository (or any of the parent directories): .git\n",
            "fatal: not a git repository (or any of the parent directories): .git\n",
            "fatal: not a git repository (or any of the parent directories): .git\n"
          ]
        }
      ]
    }
  ]
}