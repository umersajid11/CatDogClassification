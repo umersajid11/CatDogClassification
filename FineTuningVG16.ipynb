{
  "nbformat": 4,
  "nbformat_minor": 0,
  "metadata": {
    "colab": {
      "provenance": [],
      "gpuType": "T4",
      "authorship_tag": "ABX9TyPhFyELe+Ba02lq9nWeXeka",
      "include_colab_link": true
    },
    "kernelspec": {
      "name": "python3",
      "display_name": "Python 3"
    },
    "language_info": {
      "name": "python"
    },
    "accelerator": "GPU"
  },
  "cells": [
    {
      "cell_type": "markdown",
      "metadata": {
        "id": "view-in-github",
        "colab_type": "text"
      },
      "source": [
        "<a href=\"https://colab.research.google.com/github/umersajid11/CatDogClassification/blob/main/FineTuningVG16.ipynb\" target=\"_parent\"><img src=\"https://colab.research.google.com/assets/colab-badge.svg\" alt=\"Open In Colab\"/></a>"
      ]
    },
    {
      "cell_type": "code",
      "execution_count": 1,
      "metadata": {
        "id": "fFSqY6F47UyC"
      },
      "outputs": [],
      "source": [
        "!mkdir -p ~/.kaggle\n",
        "!cp kaggle.json ~/.kaggle/\n",
        "!chmod 600 ~/.kaggle/kaggle.json"
      ]
    },
    {
      "cell_type": "code",
      "source": [
        "!kaggle datasets download -d salader/dogs-vs-cats"
      ],
      "metadata": {
        "colab": {
          "base_uri": "https://localhost:8080/"
        },
        "id": "K8C-2RG77kw4",
        "outputId": "5c2a4a93-72b7-4ecf-93a9-3110577a141f"
      },
      "execution_count": 2,
      "outputs": [
        {
          "output_type": "stream",
          "name": "stdout",
          "text": [
            "Dataset URL: https://www.kaggle.com/datasets/salader/dogs-vs-cats\n",
            "License(s): unknown\n",
            "Downloading dogs-vs-cats.zip to /content\n",
            " 98% 1.04G/1.06G [00:11<00:00, 50.8MB/s]\n",
            "100% 1.06G/1.06G [00:11<00:00, 101MB/s] \n"
          ]
        }
      ]
    },
    {
      "cell_type": "code",
      "source": [
        "import zipfile\n",
        "zip_ref = zipfile.ZipFile('/content/dogs-vs-cats.zip', 'r')\n",
        "zip_ref.extractall('/content')\n",
        "zip_ref.close()"
      ],
      "metadata": {
        "id": "U5_LOPjP7tCa"
      },
      "execution_count": 3,
      "outputs": []
    },
    {
      "cell_type": "code",
      "source": [
        "import tensorflow as tf\n",
        "from tensorflow import keras\n",
        "from keras import Sequential\n",
        "from keras.layers import Dense, Conv2D, MaxPooling2D, Flatten, BatchNormalization, Dropout\n",
        "from keras import regularizers\n",
        "from tensorflow.keras.preprocessing.image import ImageDataGenerator"
      ],
      "metadata": {
        "id": "YjlJiia47yLa"
      },
      "execution_count": 4,
      "outputs": []
    },
    {
      "cell_type": "code",
      "source": [
        "import os, shutil\n",
        "from sklearn.model_selection import train_test_split\n",
        "\n",
        "# Define source folders\n",
        "base_dir = \"/content/train\"\n",
        "cat_dir = os.path.join(base_dir, \"cats\")\n",
        "dog_dir = os.path.join(base_dir, \"dogs\")\n",
        "\n",
        "# Get image file names\n",
        "cat_images = [f for f in os.listdir(cat_dir) if f.endswith('.jpg')]\n",
        "dog_images = [f for f in os.listdir(dog_dir) if f.endswith('.jpg')]\n",
        "\n",
        "# Split into train and val (90% train, 10% val)\n",
        "cat_train, cat_val = train_test_split(cat_images, test_size=0.1, random_state=42)\n",
        "dog_train, dog_val = train_test_split(dog_images, test_size=0.1, random_state=42)\n",
        "\n",
        "# Create new folder structure\n",
        "def make_dirs(base_path):\n",
        "    for subset in ['train', 'val']:\n",
        "        for label in ['cats', 'dogs']:\n",
        "            path = os.path.join(base_path, subset, label)\n",
        "            os.makedirs(path, exist_ok=True)\n",
        "\n",
        "make_dirs('/content/data')\n",
        "\n",
        "# Function to move images\n",
        "def move_images(images, src_folder, dst_folder):\n",
        "    for img in images:\n",
        "        src = os.path.join(src_folder, img)\n",
        "        dst = os.path.join(dst_folder, img)\n",
        "        shutil.copyfile(src, dst)\n",
        "\n",
        "# Move cat images\n",
        "move_images(cat_train, cat_dir, '/content/data/train/cats')\n",
        "move_images(cat_val, cat_dir, '/content/data/val/cats')\n",
        "\n",
        "# Move dog images\n",
        "move_images(dog_train, dog_dir, '/content/data/train/dogs')\n",
        "move_images(dog_val, dog_dir, '/content/data/val/dogs')"
      ],
      "metadata": {
        "id": "qYO8-BPM73F6"
      },
      "execution_count": 5,
      "outputs": []
    },
    {
      "cell_type": "code",
      "source": [
        "from tensorflow.keras.callbacks import EarlyStopping"
      ],
      "metadata": {
        "id": "XSppnYDD8C05"
      },
      "execution_count": 6,
      "outputs": []
    },
    {
      "cell_type": "code",
      "source": [
        "# Data Augmentation and Preprocessing\n",
        "image_size = (227, 227)\n",
        "batch_size = 32\n",
        "\n",
        "train_datagen = ImageDataGenerator(\n",
        "    rescale=1./255,\n",
        "    horizontal_flip=True,\n",
        "    rotation_range=20,\n",
        "    zoom_range=0.2,\n",
        "    shear_range=0.15,\n",
        "    width_shift_range=0.1,\n",
        "    fill_mode='nearest'\n",
        ")"
      ],
      "metadata": {
        "id": "jYNVVkMm8Fnh"
      },
      "execution_count": 7,
      "outputs": []
    },
    {
      "cell_type": "code",
      "source": [
        "val_datagen = ImageDataGenerator(rescale=1./255)"
      ],
      "metadata": {
        "id": "i-0YOUjD8OhD"
      },
      "execution_count": 8,
      "outputs": []
    },
    {
      "cell_type": "code",
      "source": [
        "#Generator\n",
        "train_generator = train_datagen.flow_from_directory(\n",
        "    '/content/data/train',\n",
        "    target_size=image_size,\n",
        "    batch_size=batch_size,\n",
        "    class_mode='binary'  # Since it's binary classification: cat vs dog\n",
        ")\n",
        "\n",
        "val_generator = val_datagen.flow_from_directory(\n",
        "    '/content/data/val',\n",
        "    target_size=image_size,\n",
        "    batch_size=batch_size,\n",
        "    class_mode='binary'\n",
        ")\n"
      ],
      "metadata": {
        "colab": {
          "base_uri": "https://localhost:8080/"
        },
        "id": "H3Og3Vqa8XRj",
        "outputId": "96f00472-2119-4abb-a29b-c52bc407e1b9"
      },
      "execution_count": 9,
      "outputs": [
        {
          "output_type": "stream",
          "name": "stdout",
          "text": [
            "Found 18000 images belonging to 2 classes.\n",
            "Found 2000 images belonging to 2 classes.\n"
          ]
        }
      ]
    },
    {
      "cell_type": "code",
      "source": [
        "from tensorflow.keras import layers, models\n",
        "from tensorflow.keras.applications.vgg16 import VGG16, preprocess_input\n",
        "from tensorflow.keras.optimizers import Adam\n",
        "from tensorflow.keras.layers import GlobalAveragePooling2D # Import GlobalAveragePooling2D\n",
        "from tensorflow.keras.models import Model # Import Model\n",
        "from tensorflow.keras.callbacks import ModelCheckpoint # Import ModelCheckpoint"
      ],
      "metadata": {
        "id": "zmRdcCDk849L"
      },
      "execution_count": 10,
      "outputs": []
    },
    {
      "cell_type": "code",
      "source": [
        "# Load VGG16 base\n",
        "base_model = VGG16(weights='imagenet', include_top=False, input_shape=(227, 227, 3))"
      ],
      "metadata": {
        "id": "OohZaBG58iaE",
        "colab": {
          "base_uri": "https://localhost:8080/"
        },
        "outputId": "baf50d74-12e9-4158-b74a-8f4d55a1408e"
      },
      "execution_count": 11,
      "outputs": [
        {
          "output_type": "stream",
          "name": "stdout",
          "text": [
            "Downloading data from https://storage.googleapis.com/tensorflow/keras-applications/vgg16/vgg16_weights_tf_dim_ordering_tf_kernels_notop.h5\n",
            "\u001b[1m58889256/58889256\u001b[0m \u001b[32m━━━━━━━━━━━━━━━━━━━━\u001b[0m\u001b[37m\u001b[0m \u001b[1m0s\u001b[0m 0us/step\n"
          ]
        }
      ]
    },
    {
      "cell_type": "code",
      "source": [
        "# Freeze all layers initially\n",
        "for layer in base_model.layers:\n",
        "    layer.trainable = False"
      ],
      "metadata": {
        "id": "RrN3BbqF1Xau"
      },
      "execution_count": 12,
      "outputs": []
    },
    {
      "cell_type": "code",
      "source": [
        "# Add custom classification head\n",
        "x = base_model.output\n",
        "x = GlobalAveragePooling2D()(x)\n",
        "x = Dense(256, activation='relu')(x)\n",
        "x = Dropout(0.5)(x)\n",
        "output = Dense(1, activation='sigmoid')(x)\n",
        "\n",
        "model = Model(inputs=base_model.input, outputs=output)"
      ],
      "metadata": {
        "id": "rANGGnBF3cKc"
      },
      "execution_count": 13,
      "outputs": []
    },
    {
      "cell_type": "markdown",
      "source": [
        "base_model is the pre-trained VGG16 model without its top dense layers (i.e., include_top=False).\n",
        "\n",
        "base_model.output gives you the last convolutional feature map (shape: (7, 7, 512) for 224×224 images).\n",
        "\n",
        "Applies Global Average Pooling to convert the 3D feature map (7, 7, 512) into a 1D vector of shape (512,).\n",
        "\n",
        "It reduces overfitting and has fewer parameters than Flatten() (commonly used in transfer learning).\n",
        "\n",
        "Benefit: More robust and generalizes better.\n",
        "\n",
        "✅ What this does:\n",
        "model = Model(inputs=base_model.input, outputs=output)\n",
        "\n",
        "Creates the full transfer learning model, combining:\n",
        "\n",
        "Input of VGG16\n",
        "\n",
        "VGG16 convolutional base\n",
        "\n",
        "Your custom top layers (GAP → Dense → Dropout → Output)\n",
        "\n",
        "This model is now ready for fine-tuning after freezing/unfreezing layers and compiling."
      ],
      "metadata": {
        "id": "FZkP-IQp3kC-"
      }
    },
    {
      "cell_type": "code",
      "source": [
        "# === Step 4: Compile for feature extraction phase ===\n",
        "model.compile(optimizer=Adam(learning_rate=1e-4), loss='binary_crossentropy', metrics=['accuracy'])\n",
        "\n",
        "# === Step 5: Train the top classifier head ===\n",
        "model.fit(\n",
        "    train_generator,\n",
        "    validation_data=val_generator,\n",
        "    epochs=5,\n",
        "    callbacks=[\n",
        "        EarlyStopping(monitor='val_loss', patience=2, restore_best_weights=True)\n",
        "    ]\n",
        ")"
      ],
      "metadata": {
        "colab": {
          "base_uri": "https://localhost:8080/"
        },
        "id": "gSAjl2Oj6NqQ",
        "outputId": "6075eb98-d46d-4aa2-a302-dcedbff3ffce"
      },
      "execution_count": 14,
      "outputs": [
        {
          "output_type": "stream",
          "name": "stderr",
          "text": [
            "/usr/local/lib/python3.11/dist-packages/keras/src/trainers/data_adapters/py_dataset_adapter.py:121: UserWarning: Your `PyDataset` class should call `super().__init__(**kwargs)` in its constructor. `**kwargs` can include `workers`, `use_multiprocessing`, `max_queue_size`. Do not pass these arguments to `fit()`, as they will be ignored.\n",
            "  self._warn_if_super_not_called()\n"
          ]
        },
        {
          "output_type": "stream",
          "name": "stdout",
          "text": [
            "Epoch 1/5\n",
            "\u001b[1m563/563\u001b[0m \u001b[32m━━━━━━━━━━━━━━━━━━━━\u001b[0m\u001b[37m\u001b[0m \u001b[1m270s\u001b[0m 453ms/step - accuracy: 0.6165 - loss: 0.6543 - val_accuracy: 0.8465 - val_loss: 0.4188\n",
            "Epoch 2/5\n",
            "\u001b[1m563/563\u001b[0m \u001b[32m━━━━━━━━━━━━━━━━━━━━\u001b[0m\u001b[37m\u001b[0m \u001b[1m244s\u001b[0m 434ms/step - accuracy: 0.8297 - loss: 0.4258 - val_accuracy: 0.8830 - val_loss: 0.3188\n",
            "Epoch 3/5\n",
            "\u001b[1m563/563\u001b[0m \u001b[32m━━━━━━━━━━━━━━━━━━━━\u001b[0m\u001b[37m\u001b[0m \u001b[1m245s\u001b[0m 435ms/step - accuracy: 0.8586 - loss: 0.3507 - val_accuracy: 0.8940 - val_loss: 0.2758\n",
            "Epoch 4/5\n",
            "\u001b[1m563/563\u001b[0m \u001b[32m━━━━━━━━━━━━━━━━━━━━\u001b[0m\u001b[37m\u001b[0m \u001b[1m248s\u001b[0m 440ms/step - accuracy: 0.8723 - loss: 0.3123 - val_accuracy: 0.9000 - val_loss: 0.2479\n",
            "Epoch 5/5\n",
            "\u001b[1m563/563\u001b[0m \u001b[32m━━━━━━━━━━━━━━━━━━━━\u001b[0m\u001b[37m\u001b[0m \u001b[1m245s\u001b[0m 434ms/step - accuracy: 0.8753 - loss: 0.2912 - val_accuracy: 0.9075 - val_loss: 0.2390\n"
          ]
        },
        {
          "output_type": "execute_result",
          "data": {
            "text/plain": [
              "<keras.src.callbacks.history.History at 0x7837d2b60490>"
            ]
          },
          "metadata": {},
          "execution_count": 14
        }
      ]
    },
    {
      "cell_type": "code",
      "source": [
        "# === Step 6: Unfreeze some VGG layers for fine-tuning ===\n",
        "for layer in base_model.layers[-4:]:  # Unfreeze last 4 VGG layers\n",
        "    layer.trainable = True\n",
        "\n",
        "# Compile with a lower learning rate for fine-tuning\n",
        "model.compile(optimizer=Adam(learning_rate=1e-5), loss='binary_crossentropy', metrics=['accuracy'])\n",
        "\n",
        "# === Step 7: Fine-tune the full model ===\n",
        "history = model.fit(\n",
        "    train_generator,\n",
        "    validation_data=val_generator,\n",
        "    epochs=10,\n",
        "    callbacks=[\n",
        "        EarlyStopping(monitor='val_loss', patience=3, restore_best_weights=True),\n",
        "    ]\n",
        ")"
      ],
      "metadata": {
        "colab": {
          "base_uri": "https://localhost:8080/"
        },
        "id": "TK9nPcu83LBe",
        "outputId": "ae5f30ea-c11e-4bbd-f7ef-575be885a250"
      },
      "execution_count": 15,
      "outputs": [
        {
          "output_type": "stream",
          "name": "stdout",
          "text": [
            "Epoch 1/10\n",
            "\u001b[1m563/563\u001b[0m \u001b[32m━━━━━━━━━━━━━━━━━━━━\u001b[0m\u001b[37m\u001b[0m \u001b[1m266s\u001b[0m 462ms/step - accuracy: 0.9072 - loss: 0.2160 - val_accuracy: 0.9550 - val_loss: 0.1219\n",
            "Epoch 2/10\n",
            "\u001b[1m563/563\u001b[0m \u001b[32m━━━━━━━━━━━━━━━━━━━━\u001b[0m\u001b[37m\u001b[0m \u001b[1m264s\u001b[0m 468ms/step - accuracy: 0.9458 - loss: 0.1326 - val_accuracy: 0.9560 - val_loss: 0.1106\n",
            "Epoch 3/10\n",
            "\u001b[1m563/563\u001b[0m \u001b[32m━━━━━━━━━━━━━━━━━━━━\u001b[0m\u001b[37m\u001b[0m \u001b[1m251s\u001b[0m 446ms/step - accuracy: 0.9567 - loss: 0.1082 - val_accuracy: 0.9680 - val_loss: 0.0904\n",
            "Epoch 4/10\n",
            "\u001b[1m563/563\u001b[0m \u001b[32m━━━━━━━━━━━━━━━━━━━━\u001b[0m\u001b[37m\u001b[0m \u001b[1m251s\u001b[0m 446ms/step - accuracy: 0.9626 - loss: 0.0940 - val_accuracy: 0.9710 - val_loss: 0.0846\n",
            "Epoch 5/10\n",
            "\u001b[1m563/563\u001b[0m \u001b[32m━━━━━━━━━━━━━━━━━━━━\u001b[0m\u001b[37m\u001b[0m \u001b[1m251s\u001b[0m 445ms/step - accuracy: 0.9666 - loss: 0.0862 - val_accuracy: 0.9720 - val_loss: 0.0817\n",
            "Epoch 6/10\n",
            "\u001b[1m563/563\u001b[0m \u001b[32m━━━━━━━━━━━━━━━━━━━━\u001b[0m\u001b[37m\u001b[0m \u001b[1m252s\u001b[0m 447ms/step - accuracy: 0.9700 - loss: 0.0731 - val_accuracy: 0.9735 - val_loss: 0.0736\n",
            "Epoch 7/10\n",
            "\u001b[1m563/563\u001b[0m \u001b[32m━━━━━━━━━━━━━━━━━━━━\u001b[0m\u001b[37m\u001b[0m \u001b[1m250s\u001b[0m 444ms/step - accuracy: 0.9774 - loss: 0.0612 - val_accuracy: 0.9750 - val_loss: 0.0767\n",
            "Epoch 8/10\n",
            "\u001b[1m563/563\u001b[0m \u001b[32m━━━━━━━━━━━━━━━━━━━━\u001b[0m\u001b[37m\u001b[0m \u001b[1m258s\u001b[0m 459ms/step - accuracy: 0.9768 - loss: 0.0646 - val_accuracy: 0.9715 - val_loss: 0.0831\n",
            "Epoch 9/10\n",
            "\u001b[1m563/563\u001b[0m \u001b[32m━━━━━━━━━━━━━━━━━━━━\u001b[0m\u001b[37m\u001b[0m \u001b[1m252s\u001b[0m 441ms/step - accuracy: 0.9800 - loss: 0.0523 - val_accuracy: 0.9775 - val_loss: 0.0698\n",
            "Epoch 10/10\n",
            "\u001b[1m563/563\u001b[0m \u001b[32m━━━━━━━━━━━━━━━━━━━━\u001b[0m\u001b[37m\u001b[0m \u001b[1m249s\u001b[0m 441ms/step - accuracy: 0.9819 - loss: 0.0488 - val_accuracy: 0.9795 - val_loss: 0.0695\n"
          ]
        }
      ]
    },
    {
      "cell_type": "code",
      "source": [
        "model.save('cat_dog_classifier.h5')"
      ],
      "metadata": {
        "id": "G8XHQcFqqHqE",
        "outputId": "f5a2faae-3c54-4fec-93ce-7638d45ca28a",
        "colab": {
          "base_uri": "https://localhost:8080/"
        }
      },
      "execution_count": 16,
      "outputs": [
        {
          "output_type": "stream",
          "name": "stderr",
          "text": [
            "WARNING:absl:You are saving your model as an HDF5 file via `model.save()` or `keras.saving.save_model(model)`. This file format is considered legacy. We recommend using instead the native Keras format, e.g. `model.save('my_model.keras')` or `keras.saving.save_model(model, 'my_model.keras')`. \n"
          ]
        }
      ]
    },
    {
      "cell_type": "code",
      "source": [
        "import matplotlib.pyplot as plt\n",
        "\n",
        "plt.plot(history.history['accuracy'], label='Train Accuracy')\n",
        "plt.plot(history.history['val_accuracy'], label='Val Accuracy')\n",
        "plt.plot(history.history['loss'], label='Train Loss')\n",
        "plt.plot(history.history['val_loss'], label='Val Loss')\n",
        "plt.legend()\n",
        "plt.title(\"Training vs Validation\")\n",
        "plt.xlabel(\"Epochs\")\n",
        "plt.ylabel(\"Accuracy / Loss\")\n",
        "plt.grid(True)\n",
        "plt.show()\n"
      ],
      "metadata": {
        "colab": {
          "base_uri": "https://localhost:8080/",
          "height": 472
        },
        "id": "pAN-KXXRHlT7",
        "outputId": "5d5d129f-09c7-412a-a5f9-78ef7472606b"
      },
      "execution_count": 17,
      "outputs": [
        {
          "output_type": "display_data",
          "data": {
            "text/plain": [
              "<Figure size 640x480 with 1 Axes>"
            ],
            "image/png": "[encoded data removed]"
          },
          "metadata": {}
        }
      ]
    }
  ]
}